{
 "cells": [
  {
   "cell_type": "markdown",
   "metadata": {},
   "source": [
    "# Mandatory Assignment 1: Dicts og Sets.\n",
    "\n",
    "## 1. Model an organisation of employees, management and board of directors in 3 sets.\n",
    "\n",
    "Board of directors: Benny, Hans, Tine, Mille, Torben, Troels, Søren\n",
    "\n",
    "Management: Tine, Trunte, Rane\n",
    "\n",
    "Employees: Niels, Anna, Tine, Ole, Trunte, Bent, Rane, Allan, Stine, Claus, James, Lars\n",
    "\n",
    "- who in the board of directors is not an employee?\n",
    "- who in the board of directors is also an employee?\n",
    "- how many of the management is also member of the board?\n",
    "- All members of the managent also an employee\n",
    "- All members of the management also in the board?\n",
    "- Who is an employee, member of the management, and a member of the board?\n",
    "- Who of the employee is neither a memeber or the board or management?\n"
   ]
  },
  {
   "cell_type": "code",
   "execution_count": 15,
   "metadata": {},
   "outputs": [
    {
     "name": "stdout",
     "output_type": "stream",
     "text": [
      "{'Torben', 'Troels', 'Søren', 'Benny', 'Mille', 'Hans'}\n",
      "{'Tine'}\n",
      "{'Tine'}\n",
      "False\n",
      "False\n",
      "{'Tine'}\n",
      "{'Ole', 'Bent', 'Niels', 'Anna'}\n"
     ]
    }
   ],
   "source": [
    "board = {\"Benny\", \"Hans\", \"Tine\", \"Mille\", \"Torben\", \"Troels\", \"Søren\"}\n",
    "managers = {\"Tine\", \"Trunte\", \"Rane\"}\n",
    "employees = {\"Niels\", \"Anna\", \"Tine\", \"Ole\", \"Trunte\", \"Bent\"}\n",
    "\n",
    "# who in the board of directors is not an employee?\n",
    "print(board.difference(employees))\n",
    "\n",
    "# who in the board of directors is also an employee?\n",
    "print(board.intersection(employees))\n",
    "\n",
    "# how many of the managers are also members of the board?\n",
    "print(managers.intersection(board))\n",
    "\n",
    "# All members of the managent also an employee\n",
    "print(managers.issubset(employees))\n",
    "\n",
    "# All members of the management also in the board?\n",
    "print(managers.issubset(board))\n",
    "\n",
    "# Who is an employee, member of the management, and a member of the board?\n",
    "print(managers.intersection(employees, board))\n",
    "\n",
    "# Who of the employee is neither a memeber or the board or the management?\n",
    "print(employees.difference(managers, board))\n"
   ]
  },
  {
   "cell_type": "markdown",
   "metadata": {},
   "source": [
    "## 2. Create a list of tuples from the folowing datastructure\n",
    "\n",
    "        - {'a': 'Alpha', 'b': 'Beta', 'g': 'Gamma'}"
   ]
  },
  {
   "cell_type": "code",
   "execution_count": 16,
   "metadata": {},
   "outputs": [
    {
     "name": "stdout",
     "output_type": "stream",
     "text": [
      "(('a', 'Alpha'), ('b', 'Beta'), ('g', 'Gamma'))\n"
     ]
    }
   ],
   "source": [
    "data = {'a': 'Alpha', 'b': 'Beta', 'g': 'Gamma'}\n",
    "\n",
    "# Create a list of tuples from the dictionary\n",
    "tuple_list = tuple(data.items())\n",
    "\n",
    "print(tuple_list)"
   ]
  },
  {
   "cell_type": "markdown",
   "metadata": {},
   "source": [
    "## 3. From these 2 sets:\n",
    "\n",
    "        - {'a', 'e', 'i', 'o', 'u', 'y'}\n",
    "\n",
    "        - {'a', 'e', 'i', 'o', 'u', 'y', 'æ' ,'ø', 'å'}"
   ]
  },
  {
   "cell_type": "code",
   "execution_count": 27,
   "metadata": {},
   "outputs": [
    {
     "name": "stdout",
     "output_type": "stream",
     "text": [
      "{'o', 'i', 'æ', 'å', 'e', 'u', 'ø', 'a', 'y'}\n",
      "{'o', 'i', 'æ', 'å', 'e', 'u', 'ø', 'a', 'y'}\n",
      "{'æ', 'å', 'ø'}\n",
      "{'æ', 'å', 'ø'}\n",
      "{'ø', 'å', 'æ'}\n",
      "{'ø', 'å', 'æ'}\n",
      "False\n",
      "The sets are not disjoint\n"
     ]
    }
   ],
   "source": [
    "s1 = {'a', 'e', 'i', 'o', 'u', 'y'}\n",
    "s2 = {'a', 'e', 'i', 'o', 'u', 'y', 'æ' ,'ø', 'å'}\n",
    "\n",
    "#UNION\n",
    "#methods\n",
    "methode1 = s1.union(s2)\n",
    "print(methode1)\n",
    "#operator\n",
    "operator1 = s1 | s2\n",
    "print(operator1)\n",
    "\n",
    "#SYMMETRIC DIFFERENCE\n",
    "#methods\n",
    "methode2 = s1.symmetric_difference(s2)\n",
    "print(methode2)\n",
    "#Operator\n",
    "operator2 = s1 ^ s2\n",
    "print(operator2)\n",
    "\n",
    "#DIFFERENCE\n",
    "#methods\n",
    "methode3 = s2.difference(s1)\n",
    "print(methode3)\n",
    "#operator\n",
    "operator3 = s2 - s1\n",
    "print(operator3)\n",
    "\n",
    "#DISJOINT\n",
    "#methods doesnt work with sets\n",
    "methode4 = s1.isdisjoint(s2)\n",
    "print(methode4)\n",
    "#operator\n",
    "operator4 = s1 & s2\n",
    "\n",
    "if not operator4:\n",
    "    print(\"The sets are disjoint\")\n",
    "else:\n",
    "    print(\"The sets are not disjoint\")\n"
   ]
  },
  {
   "cell_type": "markdown",
   "metadata": {},
   "source": [
    "## 4. Date Decoder.\n",
    "\n",
    "A date of the form 8-MAR-85 includes the name of the month, which must be translated to a number.\n",
    "\n",
    "Create a dict suitable for decoding month names to numbers.\n",
    "\n",
    "Create a function which uses string operations to split the date into 3 items using the \"-\" character.\n",
    "\n",
    "Translate the month, correct the year to include all of the digits.\n",
    "\n",
    "The function will accept a date in the \"dd-MMM-yy\" format and respond with a tuple of ( y , m , d )."
   ]
  },
  {
   "cell_type": "code",
   "execution_count": 33,
   "metadata": {},
   "outputs": [
    {
     "name": "stdout",
     "output_type": "stream",
     "text": [
      "('8', 3, '1985')\n"
     ]
    }
   ],
   "source": [
    "date = \"8-MAR-85\"\n",
    "\n",
    "#Create a dictionary suitable for decoding month names into numbers\n",
    "month_dict = {\"JAN\": 1, \"FEB\": 2, \"MAR\": 3, \"APR\": 4, \"MAY\": 5, \"JUN\": 6, \"JUL\": 7, \"AUG\": 8, \"SEP\": 9, \"OCT\": 10, \"NOV\": 11, \"DEC\": 12}\n",
    "\n",
    "#Create a function which uses string operations to split the date into 3 items using the \"-\" character.\n",
    "def split_date(date):\n",
    "    return date.split(\"-\")\n",
    "\n",
    "#Translate the month, correct the year to include all of the digits.\n",
    "def translate_month(month):\n",
    "    return month_dict[month]\n",
    "\n",
    "# correct the year to include all of the digits.\n",
    "def correct_year(year):\n",
    "    if int(year) > 23:\n",
    "        return \"19\" + year\n",
    "    else:\n",
    "        return \"20\" + year\n",
    "\n",
    "#The function will accept a date in the \"dd-MMM-yy\" format and respond with a tuple of ( y , m , d )\n",
    "def date_tuple(date):\n",
    "    date_list = split_date(date)\n",
    "    date_list[1] = translate_month(date_list[1])\n",
    "    date_list[2] = correct_year(date_list[2])\n",
    "    return tuple(date_list)\n",
    "\n",
    "print(date_tuple(date))\n"
   ]
  },
  {
   "cell_type": "markdown",
   "metadata": {},
   "source": [
    "## 5. Party exercise\n",
    "\n",
    "You are organizing a party and have two lists of friends. One list contains the friends you have invited, and the other list contains the friends who have RSVP'd.\n",
    "\n",
    "You want to find out who has not RSVP'd, who was not invited but RSVP'd, and who are common in both lists.\n",
    "\n",
    "Task: Write a Python program that takes two sets of names, one set containing the names of friends invited to the party and another set containing the names of friends who have RSVP'd.\n",
    "The program should then print out the names of friends who have not RSVP'd, the names of friends who were not invited but RSVP'd, and the names of friends who are common in both lists (i.e., invited and RSVP'd)."
   ]
  },
  {
   "cell_type": "code",
   "execution_count": 36,
   "metadata": {},
   "outputs": [
    {
     "name": "stdout",
     "output_type": "stream",
     "text": [
      "These friends did not RSVP'd ['Ole', 'Martin', 'Lone', 'Thomas', 'John']\n",
      "These friends where not invited but RSVP'd ['Rami', 'Jonathan']\n",
      "These friends are common on both lists ['Lotte', 'Janne', 'Rene', 'Peter', 'Lene']\n"
     ]
    }
   ],
   "source": [
    "invited = [\"Rene\", \"Peter\", \"Ole\", \"Lene\", \"Janne\", \"Martin\", \"Thomas\", \"Lone\", \"Lotte\", \"John\"]\n",
    "rsvp = [\"Rene\", \"Lotte\", \"Lene\", \"Peter\", \"Janne\", \"Rami\", \"Jonathan\"]\n",
    "\n",
    "\n",
    "#Function which returns a list of all the friends who did not RSVP'd\n",
    "def not_responded(invited, rsvp):\n",
    "    return list(set(invited).difference(rsvp))\n",
    "\n",
    "#Function which returns a list of all RSVP'd friends who are not invited\n",
    "def not_invited(invited, rsvp):\n",
    "    return list(set(rsvp).difference(invited))\n",
    "\n",
    "#Function which returns a list of friends who are common in both lists\n",
    "def common_friends(invited, rsvp):\n",
    "    return list(set(rsvp).intersection(invited))\n",
    "\n",
    "print(\"These friends did not RSVP'd\", not_responded(invited, rsvp))\n",
    "print(\"These friends where not invited but RSVP'd\",not_invited(invited, rsvp))\n",
    "print(\"These friends are common on both lists\", common_friends(invited, rsvp))\n",
    "\n",
    "\n"
   ]
  },
  {
   "cell_type": "markdown",
   "metadata": {},
   "source": [
    "## 6. You are a teacher and have a dictionary containing the names of your students as keys and their grades as values.\n",
    "\n",
    "You want to update the grades of some students and then print out the names of all students who have a grade higher than 85.\n",
    "\n",
    "Task: Write a Python program that takes a dictionary of students and their grades, updates the grades of specific students, and then prints out the names of all students who have a grade higher than 85."
   ]
  },
  {
   "cell_type": "code",
   "execution_count": 41,
   "metadata": {},
   "outputs": [
    {
     "name": "stdout",
     "output_type": "stream",
     "text": [
      "Rami 99\n",
      "Jonathan 99\n",
      "Peter 99\n",
      "Ole 95\n",
      "Lene 99\n",
      "Janne 99\n",
      "Martin 88\n",
      "Thomas 92\n",
      "John 90\n"
     ]
    }
   ],
   "source": [
    "students_dict = {\"Rami\" : 69, \"Jonathan\" : 89, \"Rene\" : 13, \"Peter\" : 100, \"Ole\" : 95, \"Lene\" : 86, \"Janne\" : 99, \"Martin\" : 88, \"Thomas\" : 92, \"Lone\" : 0, \"Lotte\" : 57, \"John\" : 90}\n",
    "\n",
    "new_grades = {\"Rami\" : 99, \"Jonathan\" : 99, \"Peter\" : 99, \"Lene\" : 99}\n",
    "\n",
    "def update_grades(students_dict, new_grades):\n",
    "    students_dict.update(new_grades)\n",
    "    return students_dict\n",
    "\n",
    "def grades_above_85(students_dict):\n",
    "    for key, value in students_dict.items():\n",
    "        if value > 85:\n",
    "            print(key, value)\n",
    "\n",
    "grades_above_85(update_grades(students_dict, new_grades))\n"
   ]
  }
 ],
 "metadata": {
  "kernelspec": {
   "display_name": "Python 3",
   "language": "python",
   "name": "python3"
  },
  "language_info": {
   "codemirror_mode": {
    "name": "ipython",
    "version": 3
   },
   "file_extension": ".py",
   "mimetype": "text/x-python",
   "name": "python",
   "nbconvert_exporter": "python",
   "pygments_lexer": "ipython3",
   "version": "3.11.5"
  },
  "orig_nbformat": 4
 },
 "nbformat": 4,
 "nbformat_minor": 2
}
